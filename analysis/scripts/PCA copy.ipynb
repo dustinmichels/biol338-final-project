{
 "cells": [
  {
   "cell_type": "code",
   "execution_count": 1,
   "metadata": {},
   "outputs": [],
   "source": [
    "%matplotlib inline\n",
    "import numpy as np\n",
    "import matplotlib.pyplot as plt\n",
    "import seaborn as sns; sns.set(style='white')\n",
    "from sklearn.decomposition import PCA"
   ]
  },
  {
   "cell_type": "markdown",
   "metadata": {},
   "source": [
    "## Load Data"
   ]
  },
  {
   "cell_type": "code",
   "execution_count": 2,
   "metadata": {
    "collapsed": true,
    "scrolled": false
   },
   "outputs": [],
   "source": [
    "%%capture\n",
    "\n",
    "# This runs the data_cleaning jupyter notebook,\n",
    "# giving us accessing to variables created over there.\n",
    "# NOTE: '%%capture' suppresses output\n",
    "%run data_cleaning.ipynb"
   ]
  },
  {
   "cell_type": "code",
   "execution_count": 28,
   "metadata": {},
   "outputs": [
    {
     "data": {
      "text/plain": [
       "'top_df (head)'"
      ]
     },
     "metadata": {},
     "output_type": "display_data"
    },
    {
     "data": {
      "text/plain": [
       "'shape: (319, 14)'"
      ]
     },
     "metadata": {},
     "output_type": "display_data"
    },
    {
     "data": {
      "text/html": [
       "<div>\n",
       "<style>\n",
       "    .dataframe thead tr:only-child th {\n",
       "        text-align: right;\n",
       "    }\n",
       "\n",
       "    .dataframe thead th {\n",
       "        text-align: left;\n",
       "    }\n",
       "\n",
       "    .dataframe tbody tr th {\n",
       "        vertical-align: top;\n",
       "    }\n",
       "</style>\n",
       "<table border=\"1\" class=\"dataframe\">\n",
       "  <thead>\n",
       "    <tr style=\"text-align: right;\">\n",
       "      <th></th>\n",
       "      <th>run_id</th>\n",
       "      <th>name</th>\n",
       "      <th>namespace</th>\n",
       "      <th>read_percent</th>\n",
       "      <th>region</th>\n",
       "      <th>zone</th>\n",
       "      <th>depth_(m)</th>\n",
       "      <th>temp_(c)</th>\n",
       "      <th>chlorophyl_(mg_chl/m3)</th>\n",
       "      <th>nitrate_(µmol/l)</th>\n",
       "      <th>oxygen_(µmol/kg)</th>\n",
       "      <th>salinity_(psu)</th>\n",
       "      <th>lat</th>\n",
       "      <th>long</th>\n",
       "    </tr>\n",
       "  </thead>\n",
       "  <tbody>\n",
       "    <tr>\n",
       "      <th>0</th>\n",
       "      <td>ERR599104</td>\n",
       "      <td>catalytic activity</td>\n",
       "      <td>molecular_function</td>\n",
       "      <td>0.066795</td>\n",
       "      <td>Southern Ocean (near Antarctica)</td>\n",
       "      <td>deep chlorophyll maximum layer</td>\n",
       "      <td>90</td>\n",
       "      <td>-0.78154</td>\n",
       "      <td>0.540091</td>\n",
       "      <td>33.109231</td>\n",
       "      <td>325.402987</td>\n",
       "      <td>34.319478</td>\n",
       "      <td>-62.2231</td>\n",
       "      <td>-49.2139</td>\n",
       "    </tr>\n",
       "    <tr>\n",
       "      <th>1</th>\n",
       "      <td>ERR599104</td>\n",
       "      <td>oxidation-reduction process</td>\n",
       "      <td>biological_process</td>\n",
       "      <td>0.058572</td>\n",
       "      <td>Southern Ocean (near Antarctica)</td>\n",
       "      <td>deep chlorophyll maximum layer</td>\n",
       "      <td>90</td>\n",
       "      <td>-0.78154</td>\n",
       "      <td>0.540091</td>\n",
       "      <td>33.109231</td>\n",
       "      <td>325.402987</td>\n",
       "      <td>34.319478</td>\n",
       "      <td>-62.2231</td>\n",
       "      <td>-49.2139</td>\n",
       "    </tr>\n",
       "    <tr>\n",
       "      <th>2</th>\n",
       "      <td>ERR599104</td>\n",
       "      <td>ATP binding</td>\n",
       "      <td>molecular_function</td>\n",
       "      <td>0.054929</td>\n",
       "      <td>Southern Ocean (near Antarctica)</td>\n",
       "      <td>deep chlorophyll maximum layer</td>\n",
       "      <td>90</td>\n",
       "      <td>-0.78154</td>\n",
       "      <td>0.540091</td>\n",
       "      <td>33.109231</td>\n",
       "      <td>325.402987</td>\n",
       "      <td>34.319478</td>\n",
       "      <td>-62.2231</td>\n",
       "      <td>-49.2139</td>\n",
       "    </tr>\n",
       "  </tbody>\n",
       "</table>\n",
       "</div>"
      ],
      "text/plain": [
       "      run_id                         name           namespace  read_percent  \\\n",
       "0  ERR599104           catalytic activity  molecular_function      0.066795   \n",
       "1  ERR599104  oxidation-reduction process  biological_process      0.058572   \n",
       "2  ERR599104                  ATP binding  molecular_function      0.054929   \n",
       "\n",
       "                             region                            zone  \\\n",
       "0  Southern Ocean (near Antarctica)  deep chlorophyll maximum layer   \n",
       "1  Southern Ocean (near Antarctica)  deep chlorophyll maximum layer   \n",
       "2  Southern Ocean (near Antarctica)  deep chlorophyll maximum layer   \n",
       "\n",
       "   depth_(m)  temp_(c)  chlorophyl_(mg_chl/m3)  nitrate_(µmol/l)  \\\n",
       "0         90  -0.78154                0.540091         33.109231   \n",
       "1         90  -0.78154                0.540091         33.109231   \n",
       "2         90  -0.78154                0.540091         33.109231   \n",
       "\n",
       "   oxygen_(µmol/kg)  salinity_(psu)        lat       long  \n",
       "0        325.402987       34.319478  -62.2231    -49.2139  \n",
       "1        325.402987       34.319478  -62.2231    -49.2139  \n",
       "2        325.402987       34.319478  -62.2231    -49.2139  "
      ]
     },
     "metadata": {},
     "output_type": "display_data"
    },
    {
     "data": {
      "text/plain": [
       "'meta_df (head)'"
      ]
     },
     "metadata": {},
     "output_type": "display_data"
    },
    {
     "data": {
      "text/plain": [
       "'shape: (11, 12)'"
      ]
     },
     "metadata": {},
     "output_type": "display_data"
    },
    {
     "data": {
      "text/html": [
       "<div>\n",
       "<style>\n",
       "    .dataframe thead tr:only-child th {\n",
       "        text-align: right;\n",
       "    }\n",
       "\n",
       "    .dataframe thead th {\n",
       "        text-align: left;\n",
       "    }\n",
       "\n",
       "    .dataframe tbody tr th {\n",
       "        vertical-align: top;\n",
       "    }\n",
       "</style>\n",
       "<table border=\"1\" class=\"dataframe\">\n",
       "  <thead>\n",
       "    <tr style=\"text-align: right;\">\n",
       "      <th></th>\n",
       "      <th>region</th>\n",
       "      <th>run_id</th>\n",
       "      <th>filename</th>\n",
       "      <th>zone</th>\n",
       "      <th>depth_(m)</th>\n",
       "      <th>temp_(c)</th>\n",
       "      <th>chlorophyl_(mg_chl/m3)</th>\n",
       "      <th>nitrate_(µmol/l)</th>\n",
       "      <th>oxygen_(µmol/kg)</th>\n",
       "      <th>salinity_(psu)</th>\n",
       "      <th>lat</th>\n",
       "      <th>long</th>\n",
       "    </tr>\n",
       "  </thead>\n",
       "  <tbody>\n",
       "    <tr>\n",
       "      <th>0</th>\n",
       "      <td>Southern Ocean (near Antarctica)</td>\n",
       "      <td>ERR599104</td>\n",
       "      <td>ERR599104_MERGED_FASTQ_GO.csv</td>\n",
       "      <td>deep chlorophyll maximum layer</td>\n",
       "      <td>90</td>\n",
       "      <td>-0.78154</td>\n",
       "      <td>0.540091</td>\n",
       "      <td>33.109231</td>\n",
       "      <td>325.402987</td>\n",
       "      <td>34.319478</td>\n",
       "      <td>-62.2231</td>\n",
       "      <td>-49.2139</td>\n",
       "    </tr>\n",
       "    <tr>\n",
       "      <th>1</th>\n",
       "      <td>Southern Ocean (near Antarctica)</td>\n",
       "      <td>ERR599090</td>\n",
       "      <td>ERR599090_MERGED_FASTQ_GO.csv</td>\n",
       "      <td>surface water layer</td>\n",
       "      <td>5</td>\n",
       "      <td>0.67108</td>\n",
       "      <td>0.065273</td>\n",
       "      <td>27.501159</td>\n",
       "      <td>343.437300</td>\n",
       "      <td>34.353880</td>\n",
       "      <td>-62.0385</td>\n",
       "      <td>-49.5290</td>\n",
       "    </tr>\n",
       "    <tr>\n",
       "      <th>2</th>\n",
       "      <td>Southern Ocean (near Antarctica)</td>\n",
       "      <td>ERR599008</td>\n",
       "      <td>ERR599008_MERGED_FASTQ_GO.csv</td>\n",
       "      <td>mesopelagic zone</td>\n",
       "      <td>790</td>\n",
       "      <td>0.45883</td>\n",
       "      <td>0.010087</td>\n",
       "      <td>38.821249</td>\n",
       "      <td>203.839400</td>\n",
       "      <td>34.679960</td>\n",
       "      <td>-61.9689</td>\n",
       "      <td>-49.5017</td>\n",
       "    </tr>\n",
       "  </tbody>\n",
       "</table>\n",
       "</div>"
      ],
      "text/plain": [
       "                             region     run_id                       filename  \\\n",
       "0  Southern Ocean (near Antarctica)  ERR599104  ERR599104_MERGED_FASTQ_GO.csv   \n",
       "1  Southern Ocean (near Antarctica)  ERR599090  ERR599090_MERGED_FASTQ_GO.csv   \n",
       "2  Southern Ocean (near Antarctica)  ERR599008  ERR599008_MERGED_FASTQ_GO.csv   \n",
       "\n",
       "                             zone  depth_(m)  temp_(c)  \\\n",
       "0  deep chlorophyll maximum layer         90  -0.78154   \n",
       "1             surface water layer          5   0.67108   \n",
       "2                mesopelagic zone        790   0.45883   \n",
       "\n",
       "   chlorophyl_(mg_chl/m3)  nitrate_(µmol/l)  oxygen_(µmol/kg)  salinity_(psu)  \\\n",
       "0                0.540091         33.109231        325.402987       34.319478   \n",
       "1                0.065273         27.501159        343.437300       34.353880   \n",
       "2                0.010087         38.821249        203.839400       34.679960   \n",
       "\n",
       "         lat       long  \n",
       "0  -62.2231    -49.2139  \n",
       "1  -62.0385    -49.5290  \n",
       "2  -61.9689    -49.5017  "
      ]
     },
     "metadata": {},
     "output_type": "display_data"
    }
   ],
   "source": [
    "# We have now loaded top_df, full_df, and meta_df\n",
    "\n",
    "display(\n",
    "    'top_df (head)', f\"shape: {top_df.shape}\",\n",
    "    top_df.head(n=3))\n",
    "\n",
    "display(\n",
    "    'meta_df (head)', f\"shape: {meta_df.shape}\",\n",
    "    meta_df.head(n=3))"
   ]
  },
  {
   "cell_type": "markdown",
   "metadata": {},
   "source": [
    "## More Data Prep "
   ]
  },
  {
   "cell_type": "code",
   "execution_count": 4,
   "metadata": {},
   "outputs": [
    {
     "data": {
      "text/html": [
       "<div>\n",
       "<style>\n",
       "    .dataframe thead tr:only-child th {\n",
       "        text-align: right;\n",
       "    }\n",
       "\n",
       "    .dataframe thead th {\n",
       "        text-align: left;\n",
       "    }\n",
       "\n",
       "    .dataframe tbody tr th {\n",
       "        vertical-align: top;\n",
       "    }\n",
       "</style>\n",
       "<table border=\"1\" class=\"dataframe\">\n",
       "  <thead>\n",
       "    <tr style=\"text-align: right;\">\n",
       "      <th>name</th>\n",
       "      <th>ATP binding</th>\n",
       "      <th>ATPase activity</th>\n",
       "      <th>DNA binding</th>\n",
       "      <th>DNA replication</th>\n",
       "      <th>GTP binding</th>\n",
       "      <th>RNA binding</th>\n",
       "      <th>aminoacyl-tRNA ligase activity</th>\n",
       "      <th>biosynthetic process</th>\n",
       "      <th>carbohydrate metabolic process</th>\n",
       "      <th>catalytic activity</th>\n",
       "      <th>...</th>\n",
       "      <th>oxidoreductase activity</th>\n",
       "      <th>oxidoreductase activity, acting on ...</th>\n",
       "      <th>protein binding</th>\n",
       "      <th>proteolysis</th>\n",
       "      <th>pyridoxal phosphate binding</th>\n",
       "      <th>ribosome</th>\n",
       "      <th>structural constituent of ribosome</th>\n",
       "      <th>tRNA aminoacylation for protein tra...</th>\n",
       "      <th>translation</th>\n",
       "      <th>transport</th>\n",
       "    </tr>\n",
       "    <tr>\n",
       "      <th>run_id</th>\n",
       "      <th></th>\n",
       "      <th></th>\n",
       "      <th></th>\n",
       "      <th></th>\n",
       "      <th></th>\n",
       "      <th></th>\n",
       "      <th></th>\n",
       "      <th></th>\n",
       "      <th></th>\n",
       "      <th></th>\n",
       "      <th></th>\n",
       "      <th></th>\n",
       "      <th></th>\n",
       "      <th></th>\n",
       "      <th></th>\n",
       "      <th></th>\n",
       "      <th></th>\n",
       "      <th></th>\n",
       "      <th></th>\n",
       "      <th></th>\n",
       "      <th></th>\n",
       "    </tr>\n",
       "  </thead>\n",
       "  <tbody>\n",
       "    <tr>\n",
       "      <th>ERR598948</th>\n",
       "      <td>0.054676</td>\n",
       "      <td>0.005978</td>\n",
       "      <td>0.020949</td>\n",
       "      <td>0.005743</td>\n",
       "      <td>0.006697</td>\n",
       "      <td>0.007409</td>\n",
       "      <td>0.009832</td>\n",
       "      <td>0.012449</td>\n",
       "      <td>0.009573</td>\n",
       "      <td>0.067951</td>\n",
       "      <td>...</td>\n",
       "      <td>0.027205</td>\n",
       "      <td>0.006679</td>\n",
       "      <td>0.010616</td>\n",
       "      <td>0.008563</td>\n",
       "      <td>0.014734</td>\n",
       "      <td>0.010300</td>\n",
       "      <td>0.010406</td>\n",
       "      <td>0.009564</td>\n",
       "      <td>0.010408</td>\n",
       "      <td>0.015223</td>\n",
       "    </tr>\n",
       "    <tr>\n",
       "      <th>ERR598980</th>\n",
       "      <td>0.051896</td>\n",
       "      <td>0.006241</td>\n",
       "      <td>0.019473</td>\n",
       "      <td>0.004795</td>\n",
       "      <td>0.006632</td>\n",
       "      <td>0.006670</td>\n",
       "      <td>0.009378</td>\n",
       "      <td>0.011707</td>\n",
       "      <td>0.008987</td>\n",
       "      <td>0.078939</td>\n",
       "      <td>...</td>\n",
       "      <td>0.032080</td>\n",
       "      <td>0.006873</td>\n",
       "      <td>0.013605</td>\n",
       "      <td>0.007893</td>\n",
       "      <td>0.018113</td>\n",
       "      <td>0.009711</td>\n",
       "      <td>0.009797</td>\n",
       "      <td>0.009156</td>\n",
       "      <td>0.009796</td>\n",
       "      <td>0.014267</td>\n",
       "    </tr>\n",
       "    <tr>\n",
       "      <th>ERR598992</th>\n",
       "      <td>0.056190</td>\n",
       "      <td>0.005844</td>\n",
       "      <td>0.020239</td>\n",
       "      <td>0.005770</td>\n",
       "      <td>0.007168</td>\n",
       "      <td>0.007577</td>\n",
       "      <td>0.010227</td>\n",
       "      <td>0.012785</td>\n",
       "      <td>0.009623</td>\n",
       "      <td>0.067138</td>\n",
       "      <td>...</td>\n",
       "      <td>0.025261</td>\n",
       "      <td>0.006759</td>\n",
       "      <td>0.009370</td>\n",
       "      <td>0.008689</td>\n",
       "      <td>0.014446</td>\n",
       "      <td>0.011087</td>\n",
       "      <td>0.011212</td>\n",
       "      <td>0.009905</td>\n",
       "      <td>0.011214</td>\n",
       "      <td>0.014048</td>\n",
       "    </tr>\n",
       "    <tr>\n",
       "      <th>ERR598995</th>\n",
       "      <td>0.056112</td>\n",
       "      <td>0.006044</td>\n",
       "      <td>0.021562</td>\n",
       "      <td>0.007172</td>\n",
       "      <td>0.006722</td>\n",
       "      <td>0.007755</td>\n",
       "      <td>0.009812</td>\n",
       "      <td>0.013339</td>\n",
       "      <td>0.010523</td>\n",
       "      <td>0.068905</td>\n",
       "      <td>...</td>\n",
       "      <td>0.026961</td>\n",
       "      <td>0.006492</td>\n",
       "      <td>0.013317</td>\n",
       "      <td>0.008915</td>\n",
       "      <td>0.015153</td>\n",
       "      <td>0.010346</td>\n",
       "      <td>0.010452</td>\n",
       "      <td>0.009595</td>\n",
       "      <td>0.010453</td>\n",
       "      <td>0.012943</td>\n",
       "    </tr>\n",
       "    <tr>\n",
       "      <th>ERR598999</th>\n",
       "      <td>0.052368</td>\n",
       "      <td>0.006248</td>\n",
       "      <td>0.020241</td>\n",
       "      <td>0.004759</td>\n",
       "      <td>0.006666</td>\n",
       "      <td>0.006823</td>\n",
       "      <td>0.009381</td>\n",
       "      <td>0.011954</td>\n",
       "      <td>0.009355</td>\n",
       "      <td>0.076456</td>\n",
       "      <td>...</td>\n",
       "      <td>0.030489</td>\n",
       "      <td>0.006671</td>\n",
       "      <td>0.012633</td>\n",
       "      <td>0.007935</td>\n",
       "      <td>0.017513</td>\n",
       "      <td>0.010129</td>\n",
       "      <td>0.010241</td>\n",
       "      <td>0.009164</td>\n",
       "      <td>0.010237</td>\n",
       "      <td>0.014694</td>\n",
       "    </tr>\n",
       "  </tbody>\n",
       "</table>\n",
       "<p>5 rows × 29 columns</p>\n",
       "</div>"
      ],
      "text/plain": [
       "name       ATP binding  ATPase activity  DNA binding  DNA replication  \\\n",
       "run_id                                                                  \n",
       "ERR598948     0.054676         0.005978     0.020949         0.005743   \n",
       "ERR598980     0.051896         0.006241     0.019473         0.004795   \n",
       "ERR598992     0.056190         0.005844     0.020239         0.005770   \n",
       "ERR598995     0.056112         0.006044     0.021562         0.007172   \n",
       "ERR598999     0.052368         0.006248     0.020241         0.004759   \n",
       "\n",
       "name       GTP binding  RNA binding  aminoacyl-tRNA ligase activity  \\\n",
       "run_id                                                                \n",
       "ERR598948     0.006697     0.007409                        0.009832   \n",
       "ERR598980     0.006632     0.006670                        0.009378   \n",
       "ERR598992     0.007168     0.007577                        0.010227   \n",
       "ERR598995     0.006722     0.007755                        0.009812   \n",
       "ERR598999     0.006666     0.006823                        0.009381   \n",
       "\n",
       "name       biosynthetic process  carbohydrate metabolic process  \\\n",
       "run_id                                                            \n",
       "ERR598948              0.012449                        0.009573   \n",
       "ERR598980              0.011707                        0.008987   \n",
       "ERR598992              0.012785                        0.009623   \n",
       "ERR598995              0.013339                        0.010523   \n",
       "ERR598999              0.011954                        0.009355   \n",
       "\n",
       "name       catalytic activity    ...      oxidoreductase activity  \\\n",
       "run_id                           ...                                \n",
       "ERR598948            0.067951    ...                     0.027205   \n",
       "ERR598980            0.078939    ...                     0.032080   \n",
       "ERR598992            0.067138    ...                     0.025261   \n",
       "ERR598995            0.068905    ...                     0.026961   \n",
       "ERR598999            0.076456    ...                     0.030489   \n",
       "\n",
       "name       oxidoreductase activity, acting on ...  protein binding  \\\n",
       "run_id                                                               \n",
       "ERR598948                                0.006679         0.010616   \n",
       "ERR598980                                0.006873         0.013605   \n",
       "ERR598992                                0.006759         0.009370   \n",
       "ERR598995                                0.006492         0.013317   \n",
       "ERR598999                                0.006671         0.012633   \n",
       "\n",
       "name       proteolysis  pyridoxal phosphate binding  ribosome  \\\n",
       "run_id                                                          \n",
       "ERR598948     0.008563                     0.014734  0.010300   \n",
       "ERR598980     0.007893                     0.018113  0.009711   \n",
       "ERR598992     0.008689                     0.014446  0.011087   \n",
       "ERR598995     0.008915                     0.015153  0.010346   \n",
       "ERR598999     0.007935                     0.017513  0.010129   \n",
       "\n",
       "name       structural constituent of ribosome  \\\n",
       "run_id                                          \n",
       "ERR598948                            0.010406   \n",
       "ERR598980                            0.009797   \n",
       "ERR598992                            0.011212   \n",
       "ERR598995                            0.010452   \n",
       "ERR598999                            0.010241   \n",
       "\n",
       "name       tRNA aminoacylation for protein tra...  translation  transport  \n",
       "run_id                                                                     \n",
       "ERR598948                                0.009564     0.010408   0.015223  \n",
       "ERR598980                                0.009156     0.009796   0.014267  \n",
       "ERR598992                                0.009905     0.011214   0.014048  \n",
       "ERR598995                                0.009595     0.010453   0.012943  \n",
       "ERR598999                                0.009164     0.010237   0.014694  \n",
       "\n",
       "[5 rows x 29 columns]"
      ]
     },
     "execution_count": 4,
     "metadata": {},
     "output_type": "execute_result"
    }
   ],
   "source": [
    "# Rearrange data\n",
    "\n",
    "df = top_df.pivot(\n",
    "    index='run_id', columns='name',\n",
    "    values='read_percent')\n",
    "\n",
    "df.head()"
   ]
  },
  {
   "cell_type": "code",
   "execution_count": 5,
   "metadata": {
    "collapsed": true
   },
   "outputs": [],
   "source": [
    "## This prepares lists so that run_ids can be mapped to metadata\n",
    "\n",
    "meta = meta_df.copy(deep=True)\n",
    "meta.drop('filename', axis=1, inplace=True)\n",
    "meta.set_index('run_id', inplace=True)\n",
    "mapping_dict = meta.to_dict()\n",
    "\n",
    "ids = df.reset_index()['run_id']\n",
    "\n",
    "region_names = ids.map(mapping_dict['region'])\n",
    "region_names = region_names.astype('category');\n",
    "region_codes = region_names.cat.codes\n",
    "\n",
    "zone_names = ids.map(mapping_dict['zone'])\n",
    "zone_names = zone_names.astype('category');\n",
    "zone_codes = zone_names.cat.codes\n",
    "\n",
    "depth = ids.map(mapping_dict['depth_(m)'])\n",
    "temp = ids.map(mapping_dict['temp_(c)'])\n",
    "nitrate = ids.map(mapping_dict['nitrate_(µmol/l)'])\n",
    "chlor = ids.map(mapping_dict['chlorophyl_(mg_chl/m3)'])\n",
    "oxy = ids.map(mapping_dict['oxygen_(µmol/kg)'])\n",
    "sal = ids.map(mapping_dict['salinity_(psu)'])"
   ]
  },
  {
   "cell_type": "markdown",
   "metadata": {},
   "source": [
    "## PCA Plots"
   ]
  },
  {
   "cell_type": "code",
   "execution_count": 6,
   "metadata": {
    "collapsed": true
   },
   "outputs": [],
   "source": [
    "data = df.as_matrix()\n",
    "pca = PCA(n_components=2)\n",
    "projected = pca.fit_transform(data)"
   ]
  },
  {
   "cell_type": "code",
   "execution_count": 7,
   "metadata": {},
   "outputs": [
    {
     "data": {
      "image/png": "[encoded data removed]",
      "text/plain": [
       "<matplotlib.figure.Figure at 0x1108696a0>"
      ]
     },
     "metadata": {},
     "output_type": "display_data"
    }
   ],
   "source": [
    "plt.scatter(\n",
    "    projected[:, 0], projected[:, 1],\n",
    "    c=region_codes, edgecolor='none', alpha=1,\n",
    "    cmap=plt.cm.get_cmap('Dark2',5))\n",
    "plt.xlabel('PC1')\n",
    "plt.ylabel('PC2')\n",
    "cbar = plt.colorbar()\n",
    "cbar.set_ticks(np.arange(5))\n",
    "cbar.ax.set_yticklabels(region_names);\n",
    "\n",
    "# plt.savefig('../imgs/pca/pca_1_region.png', bbox_inches='tight', dpi=250)"
   ]
  },
  {
   "cell_type": "code",
   "execution_count": null,
   "metadata": {
    "collapsed": true
   },
   "outputs": [],
   "source": []
  },
  {
   "cell_type": "code",
   "execution_count": 8,
   "metadata": {},
   "outputs": [
    {
     "data": {
      "image/png": "[encoded data removed]",
      "text/plain": [
       "<matplotlib.figure.Figure at 0x10ae9dd68>"
      ]
     },
     "metadata": {},
     "output_type": "display_data"
    }
   ],
   "source": [
    "plt.scatter(\n",
    "    projected[:, 0], projected[:, 1],\n",
    "    c=zone_codes,\n",
    "    cmap=plt.cm.get_cmap('Accent',3))\n",
    "\n",
    "plt.xlabel('PC1')\n",
    "plt.ylabel('PC2')\n",
    "\n",
    "cbar = plt.colorbar()\n",
    "cbar.set_ticks(np.arange(3))\n",
    "cbar.ax.set_yticklabels(zone_names);\n",
    "# plt.savefig('../imgs/pca/pca_2_zone.png',bbox_inches='tight', dpi=250)"
   ]
  },
  {
   "cell_type": "code",
   "execution_count": null,
   "metadata": {
    "collapsed": true
   },
   "outputs": [],
   "source": []
  },
  {
   "cell_type": "code",
   "execution_count": null,
   "metadata": {
    "collapsed": true
   },
   "outputs": [],
   "source": []
  },
  {
   "cell_type": "code",
   "execution_count": null,
   "metadata": {
    "collapsed": true
   },
   "outputs": [],
   "source": []
  },
  {
   "cell_type": "code",
   "execution_count": 9,
   "metadata": {
    "scrolled": false
   },
   "outputs": [],
   "source": [
    "# fig, (ax1, ax2) = plt.subplots(2, sharex=True)\n",
    "\n",
    "# sc1 = ax1.scatter(\n",
    "#     projected[:, 0], projected[:, 1],\n",
    "#     c=region_codes, edgecolor='none', alpha=1,\n",
    "#     cmap=plt.cm.get_cmap('Accent',5))\n",
    "\n",
    "# cbar1= fig.colorbar(\n",
    "#     sc1, ax=ax1,\n",
    "#     ticks=np.arange(5))\n",
    "# cbar1.ax.set_yticklabels(region_names)\n",
    "\n",
    "# # ax1.legend(())\n",
    "\n",
    "# sc2 = ax2.scatter(\n",
    "#     projected[:, 0], projected[:, 1],\n",
    "#     c=zone_codes, edgecolor='none', alpha=1,\n",
    "#     cmap=plt.cm.get_cmap('Accent',3))\n",
    "\n",
    "# cbar2 = fig.colorbar(\n",
    "#     sc2, ax=ax2,\n",
    "#     ticks=np.arange(3))\n",
    "# cbar2.ax.set_yticklabels(zone_names)"
   ]
  },
  {
   "cell_type": "code",
   "execution_count": 13,
   "metadata": {},
   "outputs": [
    {
     "data": {
      "text/html": [
       "<div>\n",
       "<style>\n",
       "    .dataframe thead tr:only-child th {\n",
       "        text-align: right;\n",
       "    }\n",
       "\n",
       "    .dataframe thead th {\n",
       "        text-align: left;\n",
       "    }\n",
       "\n",
       "    .dataframe tbody tr th {\n",
       "        vertical-align: top;\n",
       "    }\n",
       "</style>\n",
       "<table border=\"1\" class=\"dataframe\">\n",
       "  <thead>\n",
       "    <tr style=\"text-align: right;\">\n",
       "      <th></th>\n",
       "      <th>pc1</th>\n",
       "      <th>pc2</th>\n",
       "      <th>region_codes</th>\n",
       "      <th>region_names</th>\n",
       "      <th>zone_codes</th>\n",
       "      <th>zone_names</th>\n",
       "    </tr>\n",
       "  </thead>\n",
       "  <tbody>\n",
       "    <tr>\n",
       "      <th>0</th>\n",
       "      <td>-0.004941</td>\n",
       "      <td>0.000947</td>\n",
       "      <td>3</td>\n",
       "      <td>South Pacific (near the Marquesas)</td>\n",
       "      <td>0</td>\n",
       "      <td>deep chlorophyll maximum layer</td>\n",
       "    </tr>\n",
       "    <tr>\n",
       "      <th>1</th>\n",
       "      <td>0.010476</td>\n",
       "      <td>-0.000536</td>\n",
       "      <td>2</td>\n",
       "      <td>North Pacific</td>\n",
       "      <td>1</td>\n",
       "      <td>mesopelagic zone</td>\n",
       "    </tr>\n",
       "    <tr>\n",
       "      <th>2</th>\n",
       "      <td>-0.007864</td>\n",
       "      <td>-0.001101</td>\n",
       "      <td>3</td>\n",
       "      <td>South Pacific (near the Marquesas)</td>\n",
       "      <td>2</td>\n",
       "      <td>surface water layer</td>\n",
       "    </tr>\n",
       "    <tr>\n",
       "      <th>3</th>\n",
       "      <td>-0.004205</td>\n",
       "      <td>-0.001664</td>\n",
       "      <td>2</td>\n",
       "      <td>North Pacific</td>\n",
       "      <td>0</td>\n",
       "      <td>deep chlorophyll maximum layer</td>\n",
       "    </tr>\n",
       "    <tr>\n",
       "      <th>4</th>\n",
       "      <td>0.006487</td>\n",
       "      <td>-0.000472</td>\n",
       "      <td>3</td>\n",
       "      <td>South Pacific (near the Marquesas)</td>\n",
       "      <td>1</td>\n",
       "      <td>mesopelagic zone</td>\n",
       "    </tr>\n",
       "    <tr>\n",
       "      <th>5</th>\n",
       "      <td>0.012088</td>\n",
       "      <td>0.000657</td>\n",
       "      <td>4</td>\n",
       "      <td>Southern Ocean (near Antarctica)</td>\n",
       "      <td>1</td>\n",
       "      <td>mesopelagic zone</td>\n",
       "    </tr>\n",
       "    <tr>\n",
       "      <th>6</th>\n",
       "      <td>0.008569</td>\n",
       "      <td>-0.001308</td>\n",
       "      <td>0</td>\n",
       "      <td>Arabian Sea</td>\n",
       "      <td>1</td>\n",
       "      <td>mesopelagic zone</td>\n",
       "    </tr>\n",
       "    <tr>\n",
       "      <th>7</th>\n",
       "      <td>-0.004177</td>\n",
       "      <td>-0.000340</td>\n",
       "      <td>1</td>\n",
       "      <td>North Atlantic (off the coast of Portugal)</td>\n",
       "      <td>2</td>\n",
       "      <td>surface water layer</td>\n",
       "    </tr>\n",
       "    <tr>\n",
       "      <th>8</th>\n",
       "      <td>-0.003602</td>\n",
       "      <td>0.003330</td>\n",
       "      <td>4</td>\n",
       "      <td>Southern Ocean (near Antarctica)</td>\n",
       "      <td>2</td>\n",
       "      <td>surface water layer</td>\n",
       "    </tr>\n",
       "    <tr>\n",
       "      <th>9</th>\n",
       "      <td>-0.004694</td>\n",
       "      <td>0.004503</td>\n",
       "      <td>4</td>\n",
       "      <td>Southern Ocean (near Antarctica)</td>\n",
       "      <td>0</td>\n",
       "      <td>deep chlorophyll maximum layer</td>\n",
       "    </tr>\n",
       "    <tr>\n",
       "      <th>10</th>\n",
       "      <td>-0.008139</td>\n",
       "      <td>-0.004015</td>\n",
       "      <td>2</td>\n",
       "      <td>North Pacific</td>\n",
       "      <td>2</td>\n",
       "      <td>surface water layer</td>\n",
       "    </tr>\n",
       "  </tbody>\n",
       "</table>\n",
       "</div>"
      ],
      "text/plain": [
       "         pc1       pc2  region_codes  \\\n",
       "0  -0.004941  0.000947             3   \n",
       "1   0.010476 -0.000536             2   \n",
       "2  -0.007864 -0.001101             3   \n",
       "3  -0.004205 -0.001664             2   \n",
       "4   0.006487 -0.000472             3   \n",
       "5   0.012088  0.000657             4   \n",
       "6   0.008569 -0.001308             0   \n",
       "7  -0.004177 -0.000340             1   \n",
       "8  -0.003602  0.003330             4   \n",
       "9  -0.004694  0.004503             4   \n",
       "10 -0.008139 -0.004015             2   \n",
       "\n",
       "                                  region_names  zone_codes  \\\n",
       "0           South Pacific (near the Marquesas)           0   \n",
       "1                                North Pacific           1   \n",
       "2           South Pacific (near the Marquesas)           2   \n",
       "3                                North Pacific           0   \n",
       "4           South Pacific (near the Marquesas)           1   \n",
       "5             Southern Ocean (near Antarctica)           1   \n",
       "6                                  Arabian Sea           1   \n",
       "7   North Atlantic (off the coast of Portugal)           2   \n",
       "8             Southern Ocean (near Antarctica)           2   \n",
       "9             Southern Ocean (near Antarctica)           0   \n",
       "10                               North Pacific           2   \n",
       "\n",
       "                        zone_names  \n",
       "0   deep chlorophyll maximum layer  \n",
       "1                 mesopelagic zone  \n",
       "2              surface water layer  \n",
       "3   deep chlorophyll maximum layer  \n",
       "4                 mesopelagic zone  \n",
       "5                 mesopelagic zone  \n",
       "6                 mesopelagic zone  \n",
       "7              surface water layer  \n",
       "8              surface water layer  \n",
       "9   deep chlorophyll maximum layer  \n",
       "10             surface water layer  "
      ]
     },
     "execution_count": 13,
     "metadata": {},
     "output_type": "execute_result"
    }
   ],
   "source": [
    "x, y = projected[:, 0], projected[:, 1]\n",
    "\n",
    "some_data = {\n",
    "    'pc1':x, 'pc2':y,\n",
    "    'zone_names':zone_names, 'zone_codes':zone_codes,\n",
    "    'region_names':region_names,'region_codes':region_codes,\n",
    "}\n",
    "\n",
    "new_df = pd.DataFrame(data=some_data)\n",
    "\n",
    "new_df"
   ]
  },
  {
   "cell_type": "code",
   "execution_count": null,
   "metadata": {
    "collapsed": true
   },
   "outputs": [],
   "source": []
  },
  {
   "cell_type": "code",
   "execution_count": null,
   "metadata": {
    "collapsed": true
   },
   "outputs": [],
   "source": []
  },
  {
   "cell_type": "code",
   "execution_count": 29,
   "metadata": {},
   "outputs": [
    {
     "data": {
      "image/png": "[encoded data removed]",
      "text/plain": [
       "<matplotlib.figure.Figure at 0x117a35a90>"
      ]
     },
     "metadata": {},
     "output_type": "display_data"
    }
   ],
   "source": [
    "g = sns.lmplot(\n",
    "    'pc1','pc2', data=new_df,\n",
    "    fit_reg=False, hue='region_names')\n",
    "\n",
    "ax1 = g.fig.get_axes()"
   ]
  },
  {
   "cell_type": "code",
   "execution_count": null,
   "metadata": {
    "collapsed": true
   },
   "outputs": [],
   "source": [
    "g."
   ]
  },
  {
   "cell_type": "code",
   "execution_count": null,
   "metadata": {
    "collapsed": true
   },
   "outputs": [],
   "source": []
  },
  {
   "cell_type": "code",
   "execution_count": null,
   "metadata": {
    "collapsed": true
   },
   "outputs": [],
   "source": []
  },
  {
   "cell_type": "code",
   "execution_count": 15,
   "metadata": {},
   "outputs": [
    {
     "data": {
      "image/png": "[encoded data removed]",
      "text/plain": [
       "<matplotlib.figure.Figure at 0x10fc1df60>"
      ]
     },
     "metadata": {},
     "output_type": "display_data"
    }
   ],
   "source": [
    "g = sns.lmplot(\n",
    "    'pc1','pc2', data=new_df,\n",
    "    fit_reg=False, hue='zone_names')\n",
    "\n",
    "ax2 = g.fig.get_axes()"
   ]
  },
  {
   "cell_type": "code",
   "execution_count": null,
   "metadata": {
    "collapsed": true
   },
   "outputs": [],
   "source": []
  },
  {
   "cell_type": "markdown",
   "metadata": {},
   "source": [
    "## Different"
   ]
  },
  {
   "cell_type": "code",
   "execution_count": 17,
   "metadata": {
    "collapsed": true
   },
   "outputs": [],
   "source": [
    "data = df.as_matrix()\n",
    "pca = PCA(n_components=1)\n",
    "projected = pca.fit_transform(data)"
   ]
  },
  {
   "cell_type": "code",
   "execution_count": 18,
   "metadata": {},
   "outputs": [
    {
     "data": {
      "text/plain": [
       "(11, 1)"
      ]
     },
     "execution_count": 18,
     "metadata": {},
     "output_type": "execute_result"
    }
   ],
   "source": [
    "projected.shape"
   ]
  },
  {
   "cell_type": "code",
   "execution_count": 19,
   "metadata": {},
   "outputs": [
    {
     "data": {
      "text/plain": [
       "<matplotlib.text.Text at 0x114d1d6d8>"
      ]
     },
     "execution_count": 19,
     "metadata": {},
     "output_type": "execute_result"
    },
    {
     "data": {
      "image/png": "[encoded data removed]",
      "text/plain": [
       "<matplotlib.figure.Figure at 0x114c98b70>"
      ]
     },
     "metadata": {},
     "output_type": "display_data"
    }
   ],
   "source": [
    "plt.scatter(x=depth, y=projected)\n",
    "plt.xlabel('Depth (m)')\n",
    "plt.ylabel('PC1')\n",
    "# cbar = plt.colorbar()\n",
    "# cbar.set_ticks(np.arange(5))\n",
    "# cbar.ax.set_yticklabels(region_names)"
   ]
  },
  {
   "cell_type": "code",
   "execution_count": 20,
   "metadata": {
    "collapsed": true
   },
   "outputs": [],
   "source": [
    "pair_df = pd.DataFrame(projected, columns=['PC'])\n",
    "pair_df['temp'] = temp\n",
    "pair_df['depth'] = depth\n",
    "pair_df['nitrate'] = nitrate\n",
    "pair_df['zone'] = zone_names"
   ]
  },
  {
   "cell_type": "code",
   "execution_count": 21,
   "metadata": {},
   "outputs": [
    {
     "data": {
      "text/html": [
       "<div>\n",
       "<style>\n",
       "    .dataframe thead tr:only-child th {\n",
       "        text-align: right;\n",
       "    }\n",
       "\n",
       "    .dataframe thead th {\n",
       "        text-align: left;\n",
       "    }\n",
       "\n",
       "    .dataframe tbody tr th {\n",
       "        vertical-align: top;\n",
       "    }\n",
       "</style>\n",
       "<table border=\"1\" class=\"dataframe\">\n",
       "  <thead>\n",
       "    <tr style=\"text-align: right;\">\n",
       "      <th></th>\n",
       "      <th>PC</th>\n",
       "      <th>temp</th>\n",
       "      <th>depth</th>\n",
       "      <th>nitrate</th>\n",
       "      <th>zone</th>\n",
       "    </tr>\n",
       "  </thead>\n",
       "  <tbody>\n",
       "    <tr>\n",
       "      <th>0</th>\n",
       "      <td>-0.004941</td>\n",
       "      <td>24.696250</td>\n",
       "      <td>115</td>\n",
       "      <td>2.333576</td>\n",
       "      <td>deep chlorophyll maximum layer</td>\n",
       "    </tr>\n",
       "    <tr>\n",
       "      <th>1</th>\n",
       "      <td>0.010476</td>\n",
       "      <td>6.689724</td>\n",
       "      <td>550</td>\n",
       "      <td>29.094100</td>\n",
       "      <td>mesopelagic zone</td>\n",
       "    </tr>\n",
       "    <tr>\n",
       "      <th>2</th>\n",
       "      <td>-0.007864</td>\n",
       "      <td>26.544130</td>\n",
       "      <td>5</td>\n",
       "      <td>3.986359</td>\n",
       "      <td>surface water layer</td>\n",
       "    </tr>\n",
       "    <tr>\n",
       "      <th>3</th>\n",
       "      <td>-0.004205</td>\n",
       "      <td>15.284298</td>\n",
       "      <td>115</td>\n",
       "      <td>0.732507</td>\n",
       "      <td>deep chlorophyll maximum layer</td>\n",
       "    </tr>\n",
       "    <tr>\n",
       "      <th>4</th>\n",
       "      <td>0.006487</td>\n",
       "      <td>7.212238</td>\n",
       "      <td>600</td>\n",
       "      <td>42.532050</td>\n",
       "      <td>mesopelagic zone</td>\n",
       "    </tr>\n",
       "    <tr>\n",
       "      <th>5</th>\n",
       "      <td>0.012088</td>\n",
       "      <td>0.458830</td>\n",
       "      <td>790</td>\n",
       "      <td>38.821249</td>\n",
       "      <td>mesopelagic zone</td>\n",
       "    </tr>\n",
       "    <tr>\n",
       "      <th>6</th>\n",
       "      <td>0.008569</td>\n",
       "      <td>12.066048</td>\n",
       "      <td>600</td>\n",
       "      <td>31.802451</td>\n",
       "      <td>mesopelagic zone</td>\n",
       "    </tr>\n",
       "    <tr>\n",
       "      <th>7</th>\n",
       "      <td>-0.004177</td>\n",
       "      <td>14.280650</td>\n",
       "      <td>5</td>\n",
       "      <td>2.999226</td>\n",
       "      <td>surface water layer</td>\n",
       "    </tr>\n",
       "    <tr>\n",
       "      <th>8</th>\n",
       "      <td>-0.003602</td>\n",
       "      <td>0.671080</td>\n",
       "      <td>5</td>\n",
       "      <td>27.501159</td>\n",
       "      <td>surface water layer</td>\n",
       "    </tr>\n",
       "    <tr>\n",
       "      <th>9</th>\n",
       "      <td>-0.004694</td>\n",
       "      <td>-0.781540</td>\n",
       "      <td>90</td>\n",
       "      <td>33.109231</td>\n",
       "      <td>deep chlorophyll maximum layer</td>\n",
       "    </tr>\n",
       "    <tr>\n",
       "      <th>10</th>\n",
       "      <td>-0.008139</td>\n",
       "      <td>25.173925</td>\n",
       "      <td>5</td>\n",
       "      <td>-0.979589</td>\n",
       "      <td>surface water layer</td>\n",
       "    </tr>\n",
       "  </tbody>\n",
       "</table>\n",
       "</div>"
      ],
      "text/plain": [
       "          PC       temp  depth    nitrate                            zone\n",
       "0  -0.004941  24.696250    115   2.333576  deep chlorophyll maximum layer\n",
       "1   0.010476   6.689724    550  29.094100                mesopelagic zone\n",
       "2  -0.007864  26.544130      5   3.986359             surface water layer\n",
       "3  -0.004205  15.284298    115   0.732507  deep chlorophyll maximum layer\n",
       "4   0.006487   7.212238    600  42.532050                mesopelagic zone\n",
       "5   0.012088   0.458830    790  38.821249                mesopelagic zone\n",
       "6   0.008569  12.066048    600  31.802451                mesopelagic zone\n",
       "7  -0.004177  14.280650      5   2.999226             surface water layer\n",
       "8  -0.003602   0.671080      5  27.501159             surface water layer\n",
       "9  -0.004694  -0.781540     90  33.109231  deep chlorophyll maximum layer\n",
       "10 -0.008139  25.173925      5  -0.979589             surface water layer"
      ]
     },
     "execution_count": 21,
     "metadata": {},
     "output_type": "execute_result"
    }
   ],
   "source": [
    "pair_df"
   ]
  },
  {
   "cell_type": "code",
   "execution_count": 22,
   "metadata": {},
   "outputs": [
    {
     "data": {
      "image/png": "[encoded data removed]",
      "text/plain": [
       "<matplotlib.figure.Figure at 0x114e906d8>"
      ]
     },
     "metadata": {},
     "output_type": "display_data"
    }
   ],
   "source": [
    "f = sns.jointplot(x=\"temp\", y=\"PC\", data=pair_df, kind='reg')\n",
    "f.savefig(\n",
    "    '../imgs/pca/pca_jointplot_temp.png',\n",
    "    bbox_inches='tight', dpi=250)"
   ]
  },
  {
   "cell_type": "code",
   "execution_count": 23,
   "metadata": {},
   "outputs": [
    {
     "data": {
      "image/png": "[encoded data removed]",
      "text/plain": [
       "<matplotlib.figure.Figure at 0x115937a90>"
      ]
     },
     "metadata": {},
     "output_type": "display_data"
    }
   ],
   "source": [
    "f = sns.jointplot(x=\"depth\", y=\"PC\", data=pair_df, kind='reg')\n",
    "f.savefig(\n",
    "    '../imgs/pca/pca_jointplot_depth.png',\n",
    "    bbox_inches='tight', dpi=250)"
   ]
  },
  {
   "cell_type": "code",
   "execution_count": 40,
   "metadata": {},
   "outputs": [
    {
     "data": {
      "image/png": "[encoded data removed]",
      "text/plain": [
       "<matplotlib.figure.Figure at 0x11cdf0e48>"
      ]
     },
     "metadata": {},
     "output_type": "display_data"
    }
   ],
   "source": [
    "f= sns.jointplot(x=\"nitrate\", y=\"PC\", data=pair_df, kind='reg')\n",
    "f.savefig(\n",
    "    '../imgs/pca/pca_jointplot_nitrate.png',\n",
    "    bbox_inches='tight', dpi=250)"
   ]
  },
  {
   "cell_type": "code",
   "execution_count": 27,
   "metadata": {
    "scrolled": false
   },
   "outputs": [
    {
     "data": {
      "text/html": [
       "<div>\n",
       "<style>\n",
       "    .dataframe thead tr:only-child th {\n",
       "        text-align: right;\n",
       "    }\n",
       "\n",
       "    .dataframe thead th {\n",
       "        text-align: left;\n",
       "    }\n",
       "\n",
       "    .dataframe tbody tr th {\n",
       "        vertical-align: top;\n",
       "    }\n",
       "</style>\n",
       "<table border=\"1\" class=\"dataframe\">\n",
       "  <thead>\n",
       "    <tr style=\"text-align: right;\">\n",
       "      <th></th>\n",
       "      <th>PC</th>\n",
       "      <th>temp</th>\n",
       "      <th>depth</th>\n",
       "      <th>nitrate</th>\n",
       "      <th>zone</th>\n",
       "    </tr>\n",
       "  </thead>\n",
       "  <tbody>\n",
       "    <tr>\n",
       "      <th>0</th>\n",
       "      <td>-0.004941</td>\n",
       "      <td>24.696250</td>\n",
       "      <td>115</td>\n",
       "      <td>2.333576</td>\n",
       "      <td>deep chlorophyll maximum layer</td>\n",
       "    </tr>\n",
       "    <tr>\n",
       "      <th>1</th>\n",
       "      <td>0.010476</td>\n",
       "      <td>6.689724</td>\n",
       "      <td>550</td>\n",
       "      <td>29.094100</td>\n",
       "      <td>mesopelagic zone</td>\n",
       "    </tr>\n",
       "    <tr>\n",
       "      <th>2</th>\n",
       "      <td>-0.007864</td>\n",
       "      <td>26.544130</td>\n",
       "      <td>5</td>\n",
       "      <td>3.986359</td>\n",
       "      <td>surface water layer</td>\n",
       "    </tr>\n",
       "    <tr>\n",
       "      <th>3</th>\n",
       "      <td>-0.004205</td>\n",
       "      <td>15.284298</td>\n",
       "      <td>115</td>\n",
       "      <td>0.732507</td>\n",
       "      <td>deep chlorophyll maximum layer</td>\n",
       "    </tr>\n",
       "    <tr>\n",
       "      <th>4</th>\n",
       "      <td>0.006487</td>\n",
       "      <td>7.212238</td>\n",
       "      <td>600</td>\n",
       "      <td>42.532050</td>\n",
       "      <td>mesopelagic zone</td>\n",
       "    </tr>\n",
       "    <tr>\n",
       "      <th>5</th>\n",
       "      <td>0.012088</td>\n",
       "      <td>0.458830</td>\n",
       "      <td>790</td>\n",
       "      <td>38.821249</td>\n",
       "      <td>mesopelagic zone</td>\n",
       "    </tr>\n",
       "    <tr>\n",
       "      <th>6</th>\n",
       "      <td>0.008569</td>\n",
       "      <td>12.066048</td>\n",
       "      <td>600</td>\n",
       "      <td>31.802451</td>\n",
       "      <td>mesopelagic zone</td>\n",
       "    </tr>\n",
       "    <tr>\n",
       "      <th>7</th>\n",
       "      <td>-0.004177</td>\n",
       "      <td>14.280650</td>\n",
       "      <td>5</td>\n",
       "      <td>2.999226</td>\n",
       "      <td>surface water layer</td>\n",
       "    </tr>\n",
       "    <tr>\n",
       "      <th>8</th>\n",
       "      <td>-0.003602</td>\n",
       "      <td>0.671080</td>\n",
       "      <td>5</td>\n",
       "      <td>27.501159</td>\n",
       "      <td>surface water layer</td>\n",
       "    </tr>\n",
       "    <tr>\n",
       "      <th>9</th>\n",
       "      <td>-0.004694</td>\n",
       "      <td>-0.781540</td>\n",
       "      <td>90</td>\n",
       "      <td>33.109231</td>\n",
       "      <td>deep chlorophyll maximum layer</td>\n",
       "    </tr>\n",
       "    <tr>\n",
       "      <th>10</th>\n",
       "      <td>-0.008139</td>\n",
       "      <td>25.173925</td>\n",
       "      <td>5</td>\n",
       "      <td>-0.979589</td>\n",
       "      <td>surface water layer</td>\n",
       "    </tr>\n",
       "  </tbody>\n",
       "</table>\n",
       "</div>"
      ],
      "text/plain": [
       "          PC       temp  depth    nitrate                            zone\n",
       "0  -0.004941  24.696250    115   2.333576  deep chlorophyll maximum layer\n",
       "1   0.010476   6.689724    550  29.094100                mesopelagic zone\n",
       "2  -0.007864  26.544130      5   3.986359             surface water layer\n",
       "3  -0.004205  15.284298    115   0.732507  deep chlorophyll maximum layer\n",
       "4   0.006487   7.212238    600  42.532050                mesopelagic zone\n",
       "5   0.012088   0.458830    790  38.821249                mesopelagic zone\n",
       "6   0.008569  12.066048    600  31.802451                mesopelagic zone\n",
       "7  -0.004177  14.280650      5   2.999226             surface water layer\n",
       "8  -0.003602   0.671080      5  27.501159             surface water layer\n",
       "9  -0.004694  -0.781540     90  33.109231  deep chlorophyll maximum layer\n",
       "10 -0.008139  25.173925      5  -0.979589             surface water layer"
      ]
     },
     "execution_count": 27,
     "metadata": {},
     "output_type": "execute_result"
    }
   ],
   "source": [
    "pair_df"
   ]
  },
  {
   "cell_type": "code",
   "execution_count": 39,
   "metadata": {
    "scrolled": false
   },
   "outputs": [
    {
     "data": {
      "text/plain": [
       "<seaborn.axisgrid.PairGrid at 0x11c0e8940>"
      ]
     },
     "execution_count": 39,
     "metadata": {},
     "output_type": "execute_result"
    },
    {
     "data": {
      "image/png": "[encoded data removed]",
      "text/plain": [
       "<matplotlib.figure.Figure at 0x11c0e8ba8>"
      ]
     },
     "metadata": {},
     "output_type": "display_data"
    }
   ],
   "source": [
    "sns.pairplot(pair_df, hue='zone')"
   ]
  },
  {
   "cell_type": "code",
   "execution_count": null,
   "metadata": {},
   "outputs": [],
   "source": [
    "plt.scatter(x=temp, y=projected)\n",
    "plt.xlabel('Temp (c)')\n",
    "plt.ylabel('PC1')\n",
    "# cbar = plt.colorbar()\n",
    "# cbar.set_ticks(np.arange(5))\n",
    "# cbar.ax.set_yticklabels(region_names)"
   ]
  },
  {
   "cell_type": "code",
   "execution_count": null,
   "metadata": {},
   "outputs": [],
   "source": [
    "plt.scatter(x=temp, y=projected)\n",
    "plt.xlabel('Temp (c)')\n",
    "plt.ylabel('PC1')\n",
    "# cbar = plt.colorbar()\n",
    "# cbar.set_ticks(np.arange(5))\n",
    "# cbar.ax.set_yticklabels(region_names)"
   ]
  },
  {
   "cell_type": "code",
   "execution_count": null,
   "metadata": {
    "collapsed": true
   },
   "outputs": [],
   "source": []
  },
  {
   "cell_type": "code",
   "execution_count": null,
   "metadata": {},
   "outputs": [],
   "source": [
    "plt.scatter(\n",
    "    projected[:, 0], projected[:, 1],\n",
    "    c=region_codes, edgecolor='none', alpha=0.5,\n",
    "    cmap=plt.cm.get_cmap('Set1',5))\n",
    "plt.xlabel('Component 1')\n",
    "plt.ylabel('Component 2')\n",
    "cbar = plt.colorbar()\n",
    "cbar.set_ticks(np.arange(5))\n",
    "cbar.ax.set_yticklabels(region_names)"
   ]
  },
  {
   "cell_type": "code",
   "execution_count": null,
   "metadata": {
    "collapsed": true
   },
   "outputs": [],
   "source": []
  },
  {
   "cell_type": "code",
   "execution_count": null,
   "metadata": {
    "collapsed": true
   },
   "outputs": [],
   "source": []
  },
  {
   "cell_type": "code",
   "execution_count": null,
   "metadata": {
    "collapsed": true
   },
   "outputs": [],
   "source": []
  },
  {
   "cell_type": "markdown",
   "metadata": {},
   "source": [
    "## 3D"
   ]
  },
  {
   "cell_type": "code",
   "execution_count": 34,
   "metadata": {
    "collapsed": true
   },
   "outputs": [],
   "source": [
    "from mpl_toolkits import mplot3d\n",
    "# from mpl_toolkits.mplot3d import Axes3D"
   ]
  },
  {
   "cell_type": "code",
   "execution_count": 35,
   "metadata": {
    "collapsed": true
   },
   "outputs": [],
   "source": [
    "pca = PCA(n_components=3)\n",
    "projected = pca.fit_transform(data)"
   ]
  },
  {
   "cell_type": "code",
   "execution_count": 36,
   "metadata": {},
   "outputs": [
    {
     "data": {
      "text/plain": [
       "(11, 3)"
      ]
     },
     "execution_count": 36,
     "metadata": {},
     "output_type": "execute_result"
    }
   ],
   "source": [
    "projected.shape"
   ]
  },
  {
   "cell_type": "code",
   "execution_count": 37,
   "metadata": {},
   "outputs": [
    {
     "data": {
      "text/plain": [
       "<mpl_toolkits.mplot3d.art3d.Path3DCollection at 0x11b543358>"
      ]
     },
     "execution_count": 37,
     "metadata": {},
     "output_type": "execute_result"
    },
    {
     "data": {
      "image/png": "[encoded data removed]",
      "text/plain": [
       "<matplotlib.figure.Figure at 0x11b062c18>"
      ]
     },
     "metadata": {},
     "output_type": "display_data"
    }
   ],
   "source": [
    "ax = plt.axes(projection='3d')\n",
    "\n",
    "x = projected[:,0]\n",
    "y = projected[:,1]\n",
    "z = projected[:,2]\n",
    "\n",
    "ax.scatter3D(x, y, z, c=region_codes)"
   ]
  },
  {
   "cell_type": "code",
   "execution_count": null,
   "metadata": {
    "collapsed": true,
    "inputHidden": false,
    "outputHidden": false
   },
   "outputs": [],
   "source": []
  },
  {
   "cell_type": "code",
   "execution_count": null,
   "metadata": {
    "collapsed": true,
    "inputHidden": false,
    "outputHidden": false
   },
   "outputs": [],
   "source": []
  }
 ],
 "metadata": {
  "kernel_info": {
   "name": "python3"
  },
  "kernelspec": {
   "display_name": "Python 3",
   "language": "python",
   "name": "python3"
  },
  "language_info": {
   "codemirror_mode": {
    "name": "ipython",
    "version": 3
   },
   "file_extension": ".py",
   "mimetype": "text/x-python",
   "name": "python",
   "nbconvert_exporter": "python",
   "pygments_lexer": "ipython3",
   "version": "3.6.2"
  },
  "nteract": {
   "version": "0.3.4"
  }
 },
 "nbformat": 4,
 "nbformat_minor": 2
}
