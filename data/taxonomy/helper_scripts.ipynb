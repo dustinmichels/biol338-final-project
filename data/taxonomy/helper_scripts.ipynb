{
 "cells": [
  {
   "cell_type": "code",
   "execution_count": 38,
   "metadata": {
    "collapsed": true
   },
   "outputs": [],
   "source": [
    "import pandas as pd"
   ]
  },
  {
   "cell_type": "code",
   "execution_count": 39,
   "metadata": {
    "collapsed": true
   },
   "outputs": [],
   "source": [
    "data_path = '../../data/'\n",
    "file = f'{data_path}project_metadata_functional.csv'"
   ]
  },
  {
   "cell_type": "code",
   "execution_count": 5,
   "metadata": {
    "scrolled": true
   },
   "outputs": [],
   "source": [
    "df = pd.read_csv(file)"
   ]
  },
  {
   "cell_type": "markdown",
   "metadata": {},
   "source": [
    "### Str1: For Copying"
   ]
  },
  {
   "cell_type": "code",
   "execution_count": 116,
   "metadata": {},
   "outputs": [
    {
     "name": "stdout",
     "output_type": "stream",
     "text": [
      "*/ERR599104*16SrRNA* */ERR599090*16SrRNA* */ERR599008*16SrRNA* */ERR598948*16SrRNA* */ERR598992*16SrRNA* */ERR598999*16SrRNA* */ERR598995*16SrRNA* */ERR598980*16SrRNA* */ERR599142*16SrRNA* */ERR599078*16SrRNA* */ERR599031*16SrRNA* \n"
     ]
    }
   ],
   "source": [
    "# Make Globbing String\n",
    "\n",
    "outstr1 = ''\n",
    "for run_id in df[\"Run ID\"]:\n",
    "    add = f'*/{run_id}*16SrRNA* '\n",
    "    outstr1 += add\n",
    "print(outstr1)"
   ]
  },
  {
   "cell_type": "markdown",
   "metadata": {},
   "source": [
    "### Str2: All the fasta files"
   ]
  },
  {
   "cell_type": "code",
   "execution_count": 74,
   "metadata": {},
   "outputs": [
    {
     "name": "stdout",
     "output_type": "stream",
     "text": [
      "ERR599104_MERGED_FASTQ_16SrRNA_10000.fasta-ERR599090_MERGED_FASTQ_16SrRNA_10000.fasta-ERR599008_MERGED_FASTQ_16SrRNA_10000.fasta-ERR598948_MERGED_FASTQ_16SrRNA_10000.fasta-ERR598992_MERGED_FASTQ_16SrRNA_10000.fasta-ERR598999_MERGED_FASTQ_16SrRNA_10000.fasta-ERR598995_MERGED_FASTQ_16SrRNA_10000.fasta-ERR598980_MERGED_FASTQ_16SrRNA_10000.fasta-ERR599142_MERGED_FASTQ_16SrRNA_10000.fasta-ERR599078_MERGED_FASTQ_16SrRNA_10000.fasta-ERR599031_MERGED_FASTQ_16SrRNA_10000.fasta-\n"
     ]
    }
   ],
   "source": [
    "# Fasta Files (must delete last '-')\n",
    "outstr2 = ''\n",
    "for run_id in df[\"Run ID\"]:\n",
    "    add = f'{run_id}_MERGED_FASTQ_16SrRNA_10000.fasta-'\n",
    "    outstr2 += add\n",
    "print(outstr2)"
   ]
  },
  {
   "cell_type": "markdown",
   "metadata": {},
   "source": [
    "### Str3: All the Groups"
   ]
  },
  {
   "cell_type": "code",
   "execution_count": 117,
   "metadata": {
    "collapsed": true
   },
   "outputs": [],
   "source": [
    "regions = df['Region'].str.strip()\n",
    "zones = df['Sample details'].str.strip()\n",
    "\n",
    "reg_d = {\n",
    "    'Southern Ocean (near Antarctica)': 'SrnOcean',\n",
    "    'South Pacific (near the Marquesas)': 'SPac',\n",
    "    'North Pacific' : 'NPac',\n",
    "    'North Atlantic (off the coast of Portugal)' : 'NAtl',\n",
    "    'Arabian Sea' : 'AraSea',\n",
    "}\n",
    "\n",
    "zone_d = {\n",
    "    'deep chlorophyll maximum layer': 'DCM',\n",
    "    'surface water layer': 'SURF',\n",
    "    'mesopelagic zone': 'MESO',\n",
    "}\n",
    "\n",
    "reg_list = regions.map(reg_d)\n",
    "zone_list = zones.map(zone_d)"
   ]
  },
  {
   "cell_type": "code",
   "execution_count": 119,
   "metadata": {},
   "outputs": [
    {
     "name": "stdout",
     "output_type": "stream",
     "text": [
      "00_SrnOcean_DCM-01_SrnOcean_SURF-02_SrnOcean_MESO-03_SPac_DCM-04_SPac_SURF-05_SPac_MESO-06_NPac_DCM-07_NPac_MESO-08_NPac_SURF-09_NAtl_SURF-10_AraSea_MESO-\n"
     ]
    }
   ],
   "source": [
    "outstr3 = ''\n",
    "L = list(zip(reg_list, zone_list))\n",
    "for i, t in enumerate(L):\n",
    "    add = '{:02d}_{}_{}-'.format(i, t[0], t[1])\n",
    "    outstr3 += add\n",
    "print(outstr3)"
   ]
  },
  {
   "cell_type": "code",
   "execution_count": null,
   "metadata": {
    "collapsed": true
   },
   "outputs": [],
   "source": []
  }
 ],
 "metadata": {
  "kernelspec": {
   "display_name": "Python 3",
   "language": "python",
   "name": "python3"
  },
  "language_info": {
   "codemirror_mode": {
    "name": "ipython",
    "version": 3
   },
   "file_extension": ".py",
   "mimetype": "text/x-python",
   "name": "python",
   "nbconvert_exporter": "python",
   "pygments_lexer": "ipython3",
   "version": "3.6.2"
  }
 },
 "nbformat": 4,
 "nbformat_minor": 2
}
